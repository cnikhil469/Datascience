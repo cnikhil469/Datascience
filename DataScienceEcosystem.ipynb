{
  "cells": [
    {
      "cell_type": "markdown",
      "metadata": {
        "id": "view-in-github",
        "colab_type": "text"
      },
      "source": [
        "<a href=\"https://colab.research.google.com/github/cnikhil469/Datascience/blob/main/DataScienceEcosystem.ipynb\" target=\"_parent\"><img src=\"https://colab.research.google.com/assets/colab-badge.svg\" alt=\"Open In Colab\"/></a>"
      ]
    },
    {
      "cell_type": "markdown",
      "metadata": {
        "id": "nzpACxFtsfNh"
      },
      "source": [
        "<center>\n",
        "    <img src=\"https://cf-courses-data.s3.us.cloud-object-storage.appdomain.cloud/IBMDeveloperSkillsNetwork-DS0105EN-SkillsNetwork/labs/Module2/images/SN_web_lightmode.png\" width=\"300\" alt=\"cognitiveclass.ai logo\">\n",
        "</center>\n"
      ]
    },
    {
      "cell_type": "markdown",
      "metadata": {
        "id": "EqtWWx3BsfNi"
      },
      "source": [
        "#### Add your code below following the instructions given in the course\n"
      ]
    },
    {
      "cell_type": "markdown",
      "metadata": {
        "id": "1uKw1KMdsfNj"
      },
      "source": [
        "## DATA SCIENCE TOOLS AND ECOSYSTEM"
      ]
    },
    {
      "cell_type": "markdown",
      "metadata": {
        "tags": [],
        "id": "TMs_HOHmsfNj"
      },
      "source": [
        "This notebook has data science tools and demonstrates operations using jupiterlite"
      ]
    },
    {
      "cell_type": "markdown",
      "metadata": {
        "id": "WPIJPSkcsfNj"
      },
      "source": [
        "## data science languages\n",
        "Some of the popular languages that Data Scientists use are:\n",
        "- Python\n",
        "- R\n",
        "- SQL\n",
        "- Julia"
      ]
    },
    {
      "cell_type": "markdown",
      "metadata": {
        "id": "4UAxDozQsfNj"
      },
      "source": [
        "## Data science Libraries\n",
        "Some of the commonly used libraries used by Data Scientists include:\n",
        "- NumPy\n",
        "- pandas\n",
        "- matplotlib\n",
        "- scikit-learn\n",
        "- TensorFlow"
      ]
    },
    {
      "cell_type": "markdown",
      "metadata": {
        "id": "G6Z6ZEv_sfNj"
      },
      "source": [
        "## Table of Data science Tools\n",
        "| Data Science Tools       |\n",
        "|--------------------------|\n",
        "| JupyterLite               |\n",
        "| GitHub                    |\n",
        "| Anaconda                  |\n"
      ]
    },
    {
      "cell_type": "markdown",
      "metadata": {
        "id": "mYpJVYV_sfNk"
      },
      "source": [
        "## Arithmetic Expressions\n",
        "- Addition\n",
        "- Subtraction\n",
        "- Multiplication\n",
        "- Division"
      ]
    },
    {
      "cell_type": "code",
      "execution_count": null,
      "metadata": {
        "tags": [],
        "colab": {
          "base_uri": "https://localhost:8080/"
        },
        "id": "VGzgQ70dsfNk",
        "outputId": "6a23a119-9822-4771-df43-6ad32c88b75f"
      },
      "outputs": [
        {
          "output_type": "execute_result",
          "data": {
            "text/plain": [
              "2"
            ]
          },
          "metadata": {},
          "execution_count": 1
        }
      ],
      "source": [
        "## Below are a few examples of evaluating arithmetic expressions in Python.\n",
        "1+1"
      ]
    },
    {
      "cell_type": "code",
      "execution_count": null,
      "metadata": {
        "tags": [],
        "colab": {
          "base_uri": "https://localhost:8080/"
        },
        "id": "rpxbZ4XDsfNl",
        "outputId": "eed4fee9-50d8-4422-b26e-846f7c86a4d6"
      },
      "outputs": [
        {
          "output_type": "execute_result",
          "data": {
            "text/plain": [
              "1"
            ]
          },
          "metadata": {},
          "execution_count": 2
        }
      ],
      "source": [
        "2-1"
      ]
    },
    {
      "cell_type": "code",
      "execution_count": null,
      "metadata": {
        "tags": [],
        "colab": {
          "base_uri": "https://localhost:8080/"
        },
        "id": "lLvGYnXwsfNm",
        "outputId": "6ba06700-f716-4dcd-d75f-73ab2af89e0e"
      },
      "outputs": [
        {
          "output_type": "execute_result",
          "data": {
            "text/plain": [
              "4"
            ]
          },
          "metadata": {},
          "execution_count": 3
        }
      ],
      "source": [
        "2*2"
      ]
    },
    {
      "cell_type": "code",
      "execution_count": null,
      "metadata": {
        "tags": [],
        "colab": {
          "base_uri": "https://localhost:8080/"
        },
        "id": "iaW-g-MYsfNm",
        "outputId": "aa1e4ed5-3ead-463c-9de8-10f1141b3162"
      },
      "outputs": [
        {
          "output_type": "execute_result",
          "data": {
            "text/plain": [
              "2"
            ]
          },
          "metadata": {},
          "execution_count": 4
        }
      ],
      "source": [
        "4//2"
      ]
    },
    {
      "cell_type": "code",
      "execution_count": null,
      "metadata": {
        "tags": [],
        "colab": {
          "base_uri": "https://localhost:8080/"
        },
        "id": "W6PRzbdXsfNm",
        "outputId": "3fb89e7d-2838-4c2b-8c29-b87423643bc8"
      },
      "outputs": [
        {
          "output_type": "execute_result",
          "data": {
            "text/plain": [
              "(15, 8, 23)"
            ]
          },
          "metadata": {},
          "execution_count": 5
        }
      ],
      "source": [
        "# Create a code cell to multiply and add numbers\n",
        "a = 3\n",
        "b = 5\n",
        "\n",
        "mul = a * b\n",
        "addition = a + b\n",
        "\n",
        "# final result by adding the product and sum\n",
        "result = mul + addition\n",
        "\n",
        "#results\n",
        "mul, addition, result"
      ]
    },
    {
      "cell_type": "code",
      "execution_count": null,
      "metadata": {
        "tags": [],
        "colab": {
          "base_uri": "https://localhost:8080/"
        },
        "id": "LDNA1lmjsfNn",
        "outputId": "750e9310-c945-4b64-ff6f-ea1a3c7827bb"
      },
      "outputs": [
        {
          "output_type": "execute_result",
          "data": {
            "text/plain": [
              "3.3333333333333335"
            ]
          },
          "metadata": {},
          "execution_count": 6
        }
      ],
      "source": [
        "# Create a code cell to convert minutes to hours\n",
        "minutes = 200\n",
        "\n",
        "hours = minutes / 60\n",
        "\n",
        "# result\n",
        "hours"
      ]
    },
    {
      "cell_type": "markdown",
      "metadata": {
        "id": "spZQyIYBsfNn"
      },
      "source": [
        "## Objectives\n",
        "- Learn how to use JupyterLite Notebook effectively.\n",
        "- Explore and understand data science languages and libraries.\n",
        "- Perform basic arithmetic operations and data conversions using Python.\n",
        "- Share and collaborate on your work via GitHub."
      ]
    },
    {
      "cell_type": "code",
      "execution_count": null,
      "metadata": {
        "id": "nuVfvtKYsfNn"
      },
      "outputs": [],
      "source": []
    },
    {
      "cell_type": "markdown",
      "metadata": {
        "id": "FApYEX4usfNn"
      },
      "source": [
        "## Author's name\n",
        "Nikhil Chakravarthy Chappalli\n"
      ]
    }
  ],
  "metadata": {
    "kernelspec": {
      "display_name": "Python",
      "language": "python",
      "name": "conda-env-python-py"
    },
    "language_info": {
      "codemirror_mode": {
        "name": "ipython",
        "version": 3
      },
      "file_extension": ".py",
      "mimetype": "text/x-python",
      "name": "python",
      "nbconvert_exporter": "python",
      "pygments_lexer": "ipython3",
      "version": "3.7.12"
    },
    "colab": {
      "provenance": [],
      "include_colab_link": true
    }
  },
  "nbformat": 4,
  "nbformat_minor": 0
}